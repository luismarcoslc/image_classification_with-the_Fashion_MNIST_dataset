{
 "cells": [
  {
   "cell_type": "markdown",
   "id": "471c2987",
   "metadata": {},
   "source": [
    "***Authors: Laia Porcar Guillamón, Luis Marcos López Casines***\n",
    "\n",
    "***Date: 12/01/2022***\n",
    "\n",
    "***Objective: Classify the fashion_mnist dataset using different Machine Learning models.***\n",
    "\n",
    "\n",
    "\n",
    "\n",
    "    "
   ]
  },
  {
   "cell_type": "markdown",
   "id": "a292d1f3",
   "metadata": {},
   "source": [
    "**We start by importing all libraries we'll be using.**"
   ]
  },
  {
   "cell_type": "code",
   "execution_count": 7,
   "id": "f0524a11",
   "metadata": {},
   "outputs": [
    {
     "name": "stdout",
     "output_type": "stream",
     "text": [
      "Wall time: 0 ns\n"
     ]
    }
   ],
   "source": [
    "%%time\n",
    "import matplotlib.pyplot as plt\n",
    "import numpy as np\n",
    "np.random.seed(123)\n",
    "import pandas as pd\n",
    "from scipy.stats import entropy\n",
    "from urllib.request import urlopen\n",
    "\n",
    "\n",
    "from sklearn import datasets\n",
    "from sklearn.model_selection import train_test_split, GridSearchCV\n",
    "from sklearn.preprocessing import StandardScaler, MinMaxScaler\n",
    "from sklearn.decomposition import PCA\n",
    "from sklearn.tree import DecisionTreeClassifier\n",
    "from sklearn.ensemble import RandomForestClassifier\n",
    "from sklearn.svm import SVC\n",
    "from sklearn.neighbors import KNeighborsClassifier\n",
    "from sklearn.linear_model import LogisticRegression, RidgeClassifier\n",
    "from sklearn.metrics import confusion_matrix, ConfusionMatrixDisplay, classification_report\n",
    "from sklearn.metrics import f1_score, roc_auc_score, accuracy_score\n",
    "from sklearn.feature_selection import VarianceThreshold, SelectKBest, chi2\n",
    "from xgboost import XGBClassifier\n",
    "\n",
    "\n",
    "import tensorflow\n",
    "from tensorflow.keras.models import Sequential \n",
    "from tensorflow.keras.layers import Input, Dense #simple linear layer\n",
    "from tensorflow.keras.utils import to_categorical # transformation for classification labels\n",
    "from keras.utils.vis_utils import plot_model\n",
    "from tensorflow.python.framework.random_seed import set_random_seed\n",
    "from keras.callbacks import EarlyStopping\n",
    "\n"
   ]
  },
  {
   "cell_type": "markdown",
   "id": "0d0e8114",
   "metadata": {},
   "source": [
    "**Now let's import and flatten the data (from 28x28 images to 784 elements vectors)**"
   ]
  },
  {
   "cell_type": "code",
   "execution_count": 8,
   "id": "3f0a9f3f",
   "metadata": {},
   "outputs": [],
   "source": [
    "def load_fashion_mnist():\n",
    "\n",
    "    url_base = \"https://www.math.unipd.it/~dasan/\"\n",
    "    Y_train = np.frombuffer(urlopen(url_base + \"train-labels-idx1-ubyte\").read(), dtype=np.uint8, offset=8)\n",
    "    X_train = np.frombuffer(urlopen(url_base + \"train-images-idx3-ubyte\").read(), dtype=np.uint8, offset=16).reshape(len(Y_train), 784)\n",
    "    Y_test = np.frombuffer(urlopen(url_base + \"t10k-labels-idx1-ubyte\").read(), dtype=np.uint8, offset=8)\n",
    "    X_test = np.frombuffer(urlopen(url_base + \"t10k-images-idx3-ubyte\").read(), dtype=np.uint8, offset=16).reshape(len(Y_test), 784)\n",
    "\n",
    "    return X_train, Y_train, X_test, Y_test"
   ]
  },
  {
   "cell_type": "markdown",
   "id": "058ba7a9",
   "metadata": {},
   "source": [
    "**Next we print the shape of the data and divide the training set into a training and a validation set. The validation set will be used to choose the best model. The test set will be used to obtain the final accuracy score of the chosen best model. We will use 20% of the data for the validation set, this is 12k samples out of 60k.**"
   ]
  },
  {
   "cell_type": "code",
   "execution_count": 9,
   "id": "df3f7924",
   "metadata": {},
   "outputs": [
    {
     "name": "stdout",
     "output_type": "stream",
     "text": [
      "(60000, 784) (60000,) (10000, 784) (10000,)\n"
     ]
    }
   ],
   "source": [
    "X_train_val, y_train_val, X_test, y_test = load_fashion_mnist()\n",
    "print(X_train_val.shape, y_train_val.shape, X_test.shape, y_test.shape)\n",
    "\n",
    "X_train, X_val, y_train, y_val = train_test_split(X_train_val, y_train_val, test_size=0.2, stratify = y_train_val)"
   ]
  },
  {
   "cell_type": "markdown",
   "id": "08efea4f",
   "metadata": {},
   "source": [
    "**Let's examine wether our data is balanced or not. To do so we check how many entries belong to each class.**"
   ]
  },
  {
   "cell_type": "code",
   "execution_count": 10,
   "id": "d7a2a1aa",
   "metadata": {},
   "outputs": [
    {
     "name": "stdout",
     "output_type": "stream",
     "text": [
      "Size of X_train: 48000 \n",
      "Class representation in the training set:\n",
      "Class 0:4800\n",
      "Class 1:4800\n",
      "Class 2:4800\n",
      "Class 3:4800\n",
      "Class 4:4800\n",
      "Class 5:4800\n",
      "Class 6:4800\n",
      "Class 7:4800\n",
      "Class 8:4800\n",
      "Class 9:4800\n",
      "\n",
      "Size of X_val: 12000 \n",
      "Class representation in the validation set:\n",
      "Class 0:1200\n",
      "Class 1:1200\n",
      "Class 2:1200\n",
      "Class 3:1200\n",
      "Class 4:1200\n",
      "Class 5:1200\n",
      "Class 6:1200\n",
      "Class 7:1200\n",
      "Class 8:1200\n",
      "Class 9:1200\n",
      "\n",
      "Size of X_test: 10000 \n",
      "Class representation in the test set:\n",
      "Class 0:1000\n",
      "Class 1:1000\n",
      "Class 2:1000\n",
      "Class 3:1000\n",
      "Class 4:1000\n",
      "Class 5:1000\n",
      "Class 6:1000\n",
      "Class 7:1000\n",
      "Class 8:1000\n",
      "Class 9:1000\n"
     ]
    }
   ],
   "source": [
    "\n",
    "print(f\"Size of X_train: {len(X_train)}\",\"\\nClass representation in the training set:\")\n",
    "for x in range(10):\n",
    "    print(f\"Class {x}:{np.sum(y_train == x)}\")\n",
    "\n",
    "print(f\"\\nSize of X_val: {len(X_val)}\", \"\\nClass representation in the validation set:\")  \n",
    "for x in range(10):\n",
    "    print(f\"Class {x}:{np.sum(y_val == x)}\")\n",
    "\n",
    "print(f\"\\nSize of X_test: {len(X_test)}\",\"\\nClass representation in the test set:\")\n",
    "for x in range(10):\n",
    "    print(f\"Class {x}:{np.sum(y_test == x)}\")\n",
    "    "
   ]
  },
  {
   "cell_type": "markdown",
   "id": "120a5017",
   "metadata": {},
   "source": [
    "#### Our data is well balanced since all classes have approximately the same number of entries. Next step would be to scale the data, since some of the models we'll be using are sensible to the scaling. We'll use a MinMax Scaler from the sklearn preprocessing package."
   ]
  },
  {
   "cell_type": "code",
   "execution_count": 11,
   "id": "58c2b879",
   "metadata": {},
   "outputs": [],
   "source": [
    "Scaler = MinMaxScaler()\n",
    "X_train_sc = Scaler.fit_transform(X_train)\n",
    "X_val_sc = Scaler.transform(X_val)\n",
    "X_test_sc = Scaler.transform(X_test)\n"
   ]
  },
  {
   "cell_type": "markdown",
   "id": "cca577c4",
   "metadata": {},
   "source": [
    "**The idea is to do a GridSearchCV for different algorithms. However the main problem we have here is the amount of time it takes to train each model, since we have 784 features, 48000 examples and we want to check different combinations of hyperparameters.**\n",
    "\n",
    "**To tackle this problem we decided to do a GridSearchCV taking ~40% of the training examples and trying to decrease the number of features. With these modifications we would choose which parameters fit our model best and use therefore use them on a complete analysis to decide what model to keep finally.** \n",
    "\n",
    "**One of the paths we'll follow to decrease the impact of the big number of features is to reduce the dimensionality of the data through the use of Principal Component Analysis (PCA). To choose a number of dimensions that ease our process but at the same time keeps the essence of the data we plot the cumulative explained variance against the number of components. A dimension of 100 seems to be a compromise between both.**"
   ]
  },
  {
   "cell_type": "code",
   "execution_count": 12,
   "id": "416e71ef",
   "metadata": {},
   "outputs": [
    {
     "data": {
      "image/png": "[encoded data removed]",
      "text/plain": [
       "<Figure size 432x288 with 1 Axes>"
      ]
     },
     "metadata": {
      "needs_background": "light"
     },
     "output_type": "display_data"
    }
   ],
   "source": [
    "n_data = 20000 # number of data used to find the best parameters through GridSearchCV\n",
    "\n",
    "pca = PCA().fit(X_train_sc)\n",
    "plt.plot(np.cumsum(pca.explained_variance_ratio_))\n",
    "plt.xlabel('Number of components')\n",
    "plt.ylabel('Cumulative explained variance')\n",
    "plt.savefig('pca_analysis.png')\n",
    "\n",
    "pca = PCA(n_components= 100, random_state= 123)\n",
    "X_train_pca = pca.fit_transform(X_train_sc)\n",
    "X_val_pca = pca.transform(X_val_sc)\n",
    "X_test_pca = pca.transform(X_test_sc)"
   ]
  },
  {
   "cell_type": "markdown",
   "id": "a254f08c",
   "metadata": {},
   "source": [
    "**Our second path is to study by Univariate feature selection which features are more important and choose 392 (half of the total) of them to build our second data set for the GridSearchCV. This procedure works by selecting the best features based on univariate statistical tests, in our case chi2.**"
   ]
  },
  {
   "cell_type": "code",
   "execution_count": 13,
   "id": "58284925",
   "metadata": {},
   "outputs": [],
   "source": [
    "sel = SelectKBest(chi2, k=392)\n",
    "X_train_ufs = sel.fit_transform(X_train_sc, y_train)\n",
    "X_val_ufs = sel.transform(X_val_sc)\n",
    "X_test_ufs = sel.transform(X_test_sc)\n"
   ]
  },
  {
   "cell_type": "markdown",
   "id": "f88770f5",
   "metadata": {},
   "source": [
    " **We can try different algorithms:**\n",
    "\n",
    "- *Decision Tree*\n",
    "- *Random Forest*\n",
    "- *SVM*\n",
    "- *Ridge classifier*\n",
    "- *Logistic regression*\n",
    "- *KNN*\n",
    "- *XGBoost*\n",
    "- *NN*\n",
    "\n",
    "**For each model we create a function that we'll call later, first with the lower dimension data (pca) and after with the data that keeps only half of the most important features (through the entropy analysis).** \n",
    "\n",
    "**Each function has a boolean parameter called 'choosing_param'. In case this is True the input data will go through a GridSearchCV to determine which are the best parameters for each model (based on the accuracy score output by the GridSearch).** \n",
    "\n",
    "**Comparing the accuracy of the model between the pca and the entropy data, we can extract the best model to proceed and train the whole data without dimensionality reduction or feature reduction. And that is done when 'choosing_param' = False.**\n"
   ]
  },
  {
   "cell_type": "code",
   "execution_count": 14,
   "id": "75d3bba5",
   "metadata": {},
   "outputs": [],
   "source": [
    "############### Decision Tree ###############\n",
    "\n",
    "def decisiontree(X_train, y_train, choosing_param, best_parameters):\n",
    "    ''' Implements a GridSearchCV for a Decision Tree algorithm when 'choosing_param' = True. \n",
    "        Returns the best estimator and best score found by the GridSearchCV.\n",
    "        \n",
    "        Fit a Ridge Classifier model with the given parameters ('best_parameters') when 'choosing_param' = False\n",
    "        Returns the model.'''\n",
    "\n",
    "    if choosing_param:\n",
    "        dt_grid_params = {\n",
    "            'criterion': ['entropy', 'gini'],\n",
    "            'max_depth': (None,4,7,10),\n",
    "            'min_samples_leaf' : (4,8,12)\n",
    "            \n",
    "        }\n",
    "\n",
    "        dt_clf = DecisionTreeClassifier(random_state= 123)\n",
    "        dt = GridSearchCV(dt_clf, dt_grid_params, n_jobs= -1, cv = 5)\n",
    "        dt.fit(X_train, y_train)\n",
    "\n",
    "        print(dt.best_params_)\n",
    "        print(dt.best_score_)\n",
    "        return dt.best_estimator_, dt.best_score_\n",
    "    \n",
    "    else:\n",
    "        dt_clf = best_parameters\n",
    "        dt_clf.fit(X_train, y_train)\n",
    "        return dt_clf\n",
    "        \n"
   ]
  },
  {
   "cell_type": "code",
   "execution_count": 15,
   "id": "9cb03c31",
   "metadata": {
    "scrolled": true
   },
   "outputs": [],
   "source": [
    "############### Random Forest ###############\n",
    "\n",
    "def randomforest(X_train, y_train, choosing_param, best_parameters):\n",
    "    ''' Implements a GridSearchCV for a Random Forest algorithm when 'choosing_param' = True. \n",
    "        Returns the best estimator and best score found by the GridSearchCV.\n",
    "        \n",
    "        Fit a Ridge Classifier model with the given parameters ('best_parameters') when 'choosing_param' = False\n",
    "        Returns the model.'''\n",
    "\n",
    "    if choosing_param:\n",
    "        rf_grid_params = {\n",
    "            'n_estimators': (10, 100),\n",
    "            'criterion': ['entropy'],\n",
    "            'max_depth': (None, 5),\n",
    "            'max_features' : ('sqrt','log2')\n",
    "        }\n",
    "\n",
    "\n",
    "        rf_clf = RandomForestClassifier(random_state= 123)\n",
    "        rf = GridSearchCV(rf_clf, rf_grid_params, n_jobs= -1, cv = 5)\n",
    "        rf.fit(X_train, y_train)\n",
    "\n",
    "        print(rf.best_params_)\n",
    "        print(rf.best_score_)\n",
    "        return rf.best_estimator_ , rf.best_score_\n",
    "    \n",
    "    else:\n",
    "        rf_clf = best_parameters\n",
    "        rf_clf.fit(X_train, y_train)\n",
    "        return rf_clf\n",
    "        \n"
   ]
  },
  {
   "cell_type": "code",
   "execution_count": 16,
   "id": "45451170",
   "metadata": {},
   "outputs": [],
   "source": [
    "############### SVM ###############\n",
    "\n",
    "def suport_vector(X_train, y_train, choosing_param, best_parameters):\n",
    "    ''' Implements a GridSearchCV for a Support Vector Machine algorithm when 'choosing_param' = True. \n",
    "        Returns the best estimator and best score found by the GridSearchCV.\n",
    "        \n",
    "        Fit a Ridge Classifier model with the given parameters ('best_parameters') when 'choosing_param' = False\n",
    "        Returns the model.'''    \n",
    "\n",
    "    if choosing_param:\n",
    "        svc_grid_params = {\n",
    "            'C': (10, 15, 20)\n",
    "        }\n",
    "\n",
    "        svc_clf = SVC(random_state= 123)\n",
    "        svc = GridSearchCV(svc_clf, svc_grid_params, n_jobs= -1, cv = 5)\n",
    "        svc.fit(X_train, y_train)\n",
    "\n",
    "        print(svc.best_params_)\n",
    "        print(svc.best_score_)\n",
    "        return svc.best_estimator_, svc.best_score_\n",
    "    \n",
    "    else:\n",
    "        svc_clf = best_parameters\n",
    "        svc_clf.fit(X_train, y_train)\n",
    "        return svc_clf\n"
   ]
  },
  {
   "cell_type": "code",
   "execution_count": 17,
   "id": "0ff48432",
   "metadata": {},
   "outputs": [],
   "source": [
    "############### Logistic regression ###############\n",
    "\n",
    "def log_reg(X_train, y_train, choosing_param, best_parameters):\n",
    "    ''' Implements a GridSearchCV for a Logistic Regression algorithm when 'choosing_param' = True. \n",
    "        Returns the best estimator and best score found by the GridSearchCV.\n",
    "        \n",
    "        Fit a Ridge Classifier model with the given parameters ('best_parameters') when 'choosing_param' = False\n",
    "        Returns the model.'''\n",
    "    \n",
    "    if choosing_param:    \n",
    "        lr_grid_params = { \n",
    "            'solver' : ['newton-cg', 'lbfgs', 'saga'],\n",
    "            'C': (0.1,0.2, 0.4),\n",
    "        }\n",
    "\n",
    "        lr_clf = LogisticRegression(random_state= 123)\n",
    "        lr = GridSearchCV(lr_clf, lr_grid_params, n_jobs = -1, cv = 5)\n",
    "        lr.fit(X_train, y_train)\n",
    "\n",
    "        print(lr.best_params_)\n",
    "        print(lr.best_score_)\n",
    "        return lr.best_estimator_, lr.best_score_\n",
    "    \n",
    "    else:\n",
    "        lr_clf = best_parameters\n",
    "        lr_clf.fit(X_train, y_train)\n",
    "        return lr_clf"
   ]
  },
  {
   "cell_type": "code",
   "execution_count": 18,
   "id": "b98bafce",
   "metadata": {},
   "outputs": [],
   "source": [
    "############### KNN ###############\n",
    "\n",
    "def nearest_neighbors(X_train, y_train, choosing_param, best_parameters):\n",
    "    ''' Implements a GridSearchCV for a KNN algorithm when 'choosing_param' = True. \n",
    "        Returns the best estimator and best score found by the GridSearchCV.\n",
    "        \n",
    "        Fit a Ridge Classifier model with the given parameters ('best_parameters') when 'choosing_param' = False\n",
    "        Returns the model.'''\n",
    "\n",
    "    if choosing_param:\n",
    "        knn_grid_params = {\n",
    "            'n_neighbors': (3,6,9,13),\n",
    "            'metric': ['euclidean', 'manhattan','minkowski'],\n",
    "            'weights' : ['uniform', 'distance']\n",
    "            }\n",
    "\n",
    "\n",
    "        knn_clf = KNeighborsClassifier()\n",
    "        knn = GridSearchCV(knn_clf, knn_grid_params, n_jobs= -1, cv = 5)\n",
    "        knn.fit(X_train, y_train)\n",
    "\n",
    "        print(knn.best_params_)\n",
    "        print(knn.best_score_)\n",
    "        return knn.best_estimator_ , knn.best_score_\n",
    "    \n",
    "    else:\n",
    "        knn_clf = best_parameters\n",
    "        knn_clf.fit(X_train, y_train)\n",
    "        return knn_clf\n"
   ]
  },
  {
   "cell_type": "code",
   "execution_count": 19,
   "id": "9a249bf1",
   "metadata": {},
   "outputs": [],
   "source": [
    "############### XGBoost ###############\n",
    "\n",
    "def xgb(X_train, y_train, choosing_param, best_parameters):\n",
    "    ''' Implements a GridSearchCV for a XGBoost algorithm when 'choosing_param' = True. \n",
    "        Returns the best estimator and best score found by the GridSearchCV.\n",
    "        \n",
    "        Fit a Ridge Classifier model with the given parameters ('best_parameters') when 'choosing_param' = False\n",
    "        Returns the model.'''\n",
    "\n",
    "    if choosing_param:\n",
    "        xgb_grid_params = {\n",
    "            'learning_rate': [0.03, 0.3]\n",
    "            #'max_depth' : (3,7,15), 'n_estimators': (5,11)\n",
    "            }\n",
    "\n",
    "        xgb_clf = XGBClassifier(random_state= 123, use_label_encoder=False)\n",
    "        xgb = GridSearchCV(xgb_clf, xgb_grid_params, n_jobs= -1, cv = 5)\n",
    "        xgb.fit(X_train, y_train)\n",
    "\n",
    "        print(xgb.best_params_)\n",
    "        print(xgb.best_score_)\n",
    "        return xgb.best_estimator_, xgb.best_score_\n",
    "    \n",
    "    else:      \n",
    "        xgb_clf = best_parameters\n",
    "        xgb_clf.fit(X_train, y_train)\n",
    "        return xgb_clf\n"
   ]
  },
  {
   "cell_type": "code",
   "execution_count": 20,
   "id": "19081085",
   "metadata": {},
   "outputs": [],
   "source": [
    "############### Ridge Classifier ###############\n",
    "\n",
    "def ridge_classifier(X_train, y_train, choosing_param, best_parameters):\n",
    "    ''' Implements a GridSearchCV for a Ridge Classifier algorithm when 'choosing_param' = True. \n",
    "        Returns the best estimator and best score found by the GridSearchCV.\n",
    "        \n",
    "        Fit a Ridge Classifier model with the given parameters ('best_parameters') when 'choosing_param' = False\n",
    "        Returns the model.'''\n",
    "\n",
    "    if choosing_param:\n",
    "        rc_grid_params = {\n",
    "            'alpha': (0.001,0.01,0.1)}\n",
    "        \n",
    "        rc_clf = RidgeClassifier(random_state= 123)\n",
    "        rc = GridSearchCV(rc_clf, rc_grid_params, n_jobs= -1, cv = 5)\n",
    "        rc.fit(X_train, y_train)\n",
    "        \n",
    "        print(rc.best_params_)\n",
    "        print(rc.best_score_)\n",
    "        return rc.best_estimator_, rc.best_score_\n",
    "        \n",
    "    else:\n",
    "        rc_clf = best_parameters\n",
    "        rc_clf.fit(X_train, y_train)\n",
    "        return rc_clf\n"
   ]
  },
  {
   "cell_type": "markdown",
   "id": "2e6170c6",
   "metadata": {},
   "source": [
    "**As said before, we first call all algorithm functions with the pca data and store the information of best parameters and accuracy with those parameters in a list.**"
   ]
  },
  {
   "cell_type": "code",
   "execution_count": 21,
   "id": "75a58546",
   "metadata": {
    "scrolled": true
   },
   "outputs": [
    {
     "name": "stdout",
     "output_type": "stream",
     "text": [
      "{'criterion': 'entropy', 'max_depth': 10, 'min_samples_leaf': 12}\n",
      "0.7644\n",
      "{'criterion': 'entropy', 'max_depth': None, 'max_features': 'sqrt', 'n_estimators': 100}\n",
      "0.85605\n",
      "{'C': 15}\n",
      "0.8890500000000001\n",
      "{'C': 0.4, 'solver': 'newton-cg'}\n",
      "0.8477499999999999\n",
      "{'metric': 'manhattan', 'n_neighbors': 6, 'weights': 'distance'}\n",
      "0.8544\n",
      "[17:57:05] WARNING: ..\\src\\learner.cc:1115: Starting in XGBoost 1.3.0, the default evaluation metric used with the objective 'multi:softprob' was changed from 'merror' to 'mlogloss'. Explicitly set eval_metric if you'd like to restore the old behavior.\n",
      "{'learning_rate': 0.3}\n",
      "0.869\n",
      "{'alpha': 0.001}\n",
      "0.8059499999999999\n",
      "Wall time: 16min 55s\n"
     ]
    }
   ],
   "source": [
    "%%time\n",
    "best_pca_params = []\n",
    "\n",
    "best_pca_dt = decisiontree(X_train_pca[:n_data], y_train[:n_data], choosing_param = True, best_parameters = {})\n",
    "best_pca_params.append(best_pca_dt)\n",
    "best_pca_rf = randomforest(X_train_pca[:n_data], y_train[:n_data], choosing_param = True, best_parameters = {})\n",
    "best_pca_params.append(best_pca_rf)\n",
    "best_pca_svc = suport_vector(X_train_pca[:n_data], y_train[:n_data], choosing_param = True, best_parameters = {})\n",
    "best_pca_params.append(best_pca_svc)\n",
    "best_pca_lr = log_reg(X_train_pca[:n_data], y_train[:n_data], choosing_param = True, best_parameters = {})\n",
    "best_pca_params.append(best_pca_lr)\n",
    "best_pca_knn = nearest_neighbors(X_train_pca[:n_data], y_train[:n_data], choosing_param = True, best_parameters = {})\n",
    "best_pca_params.append(best_pca_knn)\n",
    "best_pca_xgb = xgb(X_train_pca[:n_data], y_train[:n_data], choosing_param = True, best_parameters = {})\n",
    "best_pca_params.append(best_pca_xgb)\n",
    "best_pca_rc = ridge_classifier(X_train_pca[:n_data], y_train[:n_data], choosing_param = True, best_parameters = {})\n",
    "best_pca_params.append(best_pca_rc)\n"
   ]
  },
  {
   "cell_type": "markdown",
   "id": "b8fe2478",
   "metadata": {},
   "source": [
    "**Now we do the same with the data obtained from feature reduction.**"
   ]
  },
  {
   "cell_type": "code",
   "execution_count": 22,
   "id": "9a779746",
   "metadata": {
    "scrolled": false
   },
   "outputs": [
    {
     "name": "stdout",
     "output_type": "stream",
     "text": [
      "{'criterion': 'gini', 'max_depth': 10, 'min_samples_leaf': 8}\n",
      "0.7844\n",
      "{'criterion': 'entropy', 'max_depth': None, 'max_features': 'sqrt', 'n_estimators': 100}\n",
      "0.85825\n",
      "{'C': 10}\n",
      "0.87895\n",
      "{'C': 0.4, 'solver': 'newton-cg'}\n",
      "0.83765\n",
      "{'metric': 'manhattan', 'n_neighbors': 6, 'weights': 'distance'}\n",
      "0.8455999999999999\n",
      "[18:20:27] WARNING: ..\\src\\learner.cc:1115: Starting in XGBoost 1.3.0, the default evaluation metric used with the objective 'multi:softprob' was changed from 'merror' to 'mlogloss'. Explicitly set eval_metric if you'd like to restore the old behavior.\n",
      "{'learning_rate': 0.3}\n",
      "0.87935\n",
      "{'alpha': 0.1}\n",
      "0.7936\n",
      "Wall time: 23min 7s\n"
     ]
    }
   ],
   "source": [
    "%%time\n",
    "best_ufs_params = []\n",
    "\n",
    "best_ufs_dt = decisiontree(X_train_ufs[:n_data], y_train[:n_data], choosing_param = True, best_parameters = {})\n",
    "best_ufs_params.append(best_ufs_dt)\n",
    "best_ufs_rf = randomforest(X_train_ufs[:n_data], y_train[:n_data], choosing_param = True, best_parameters = {})\n",
    "best_ufs_params.append(best_ufs_rf)\n",
    "best_ufs_svc = suport_vector(X_train_ufs[:n_data], y_train[:n_data], choosing_param = True, best_parameters = {})\n",
    "best_ufs_params.append(best_ufs_svc)\n",
    "best_ufs_lr = log_reg(X_train_ufs[:n_data], y_train[:n_data],choosing_param = True, best_parameters = {})\n",
    "best_ufs_params.append(best_ufs_lr)\n",
    "best_ufs_knn = nearest_neighbors(X_train_ufs[:n_data], y_train[:n_data], choosing_param = True, best_parameters = {} )\n",
    "best_ufs_params.append(best_ufs_knn)\n",
    "best_ufs_xgb = xgb(X_train_ufs[:n_data], y_train[:n_data], choosing_param = True, best_parameters = {})\n",
    "best_ufs_params.append(best_ufs_xgb)\n",
    "best_ufs_rc = ridge_classifier(X_train_ufs[:n_data], y_train[:n_data], choosing_param = True, best_parameters = {})\n",
    "best_ufs_params.append(best_ufs_rc)"
   ]
  },
  {
   "cell_type": "markdown",
   "id": "bd1ad33a",
   "metadata": {},
   "source": [
    "**Based on the accuracy score we can choose wether keeping the best parameters obtained with the pca data or the feature reduction data.**"
   ]
  },
  {
   "cell_type": "code",
   "execution_count": 23,
   "id": "59f68925",
   "metadata": {},
   "outputs": [],
   "source": [
    "best_params = []\n",
    "for i in range(len(best_ufs_params)):\n",
    "    if best_ufs_params[i][1] > best_pca_params[i][1]:\n",
    "        best_params.append(best_ufs_params[i][0])\n",
    "    else:\n",
    "        best_params.append(best_pca_params[i][0])"
   ]
  },
  {
   "cell_type": "markdown",
   "id": "f2b75d97",
   "metadata": {},
   "source": [
    "**Now that we know the best hyperparameters to use, let's use them on the full data (all features and dimensions and all 60k samples), calling the algorithm functions with the 'choosing_param' = False.**"
   ]
  },
  {
   "cell_type": "code",
   "execution_count": 24,
   "id": "fbf647f3",
   "metadata": {},
   "outputs": [
    {
     "name": "stdout",
     "output_type": "stream",
     "text": [
      "[18:25:58] WARNING: ..\\src\\learner.cc:1115: Starting in XGBoost 1.3.0, the default evaluation metric used with the objective 'multi:softprob' was changed from 'merror' to 'mlogloss'. Explicitly set eval_metric if you'd like to restore the old behavior.\n",
      "Wall time: 8min 16s\n"
     ]
    }
   ],
   "source": [
    "%%time\n",
    "\n",
    "model_dt = decisiontree(X_train_sc, y_train, choosing_param = False, best_parameters = best_params[0])\n",
    "model_rf = randomforest(X_train_sc, y_train, choosing_param = False, best_parameters = best_params[1])\n",
    "model_svc = suport_vector(X_train_sc, y_train, choosing_param = False, best_parameters = best_params[2])\n",
    "model_lr = log_reg(X_train_sc, y_train,choosing_param = False, best_parameters = best_params[3])\n",
    "model_knn = nearest_neighbors(X_train_sc, y_train, choosing_param = False, best_parameters = best_params[4])\n",
    "model_xgb = xgb(X_train_sc, y_train, choosing_param = False, best_parameters = best_params[5])\n",
    "model_rc = ridge_classifier(X_train_sc, y_train, choosing_param = False, best_parameters = best_params[6])"
   ]
  },
  {
   "cell_type": "markdown",
   "id": "d89b7abe",
   "metadata": {},
   "source": [
    "**Let's predict and find the accuracy for the training and validation sets, for each model.**"
   ]
  },
  {
   "cell_type": "code",
   "execution_count": 25,
   "id": "5406f79e",
   "metadata": {},
   "outputs": [
    {
     "name": "stdout",
     "output_type": "stream",
     "text": [
      "Decision Tree f1.\tTrain:0.8459\tVal:0.8127\n",
      "Decision Tree accuracy.\tTrain:0.8461\tVal:0.8135\n",
      " \n",
      "Random Forest f1.\tTrain:1.0000\tVal:0.8853\n",
      "Random Forest accuracy.\tTrain:1.0000\tVal:0.8867\n",
      " \n",
      "SVM f1.\tTrain:0.9816\tVal:0.8991\n",
      "SVM accuracy.\tTrain:0.9816\tVal:0.8995\n",
      " \n",
      "Logistic Regression f1.\tTrain:0.8808\tVal:0.8532\n",
      "Logistic Regression accuracy.\tTrain:0.8815\tVal:0.8538\n",
      " \n",
      "KNN f1.\tTrain:1.0000\tVal:0.8626\n",
      "KNN accuracy.\tTrain:1.0000\tVal:0.8631\n",
      " \n",
      "XGB f1.\tTrain:1.0000\tVal:0.9022\n",
      "XGB accuracy.\tTrain:1.0000\tVal:0.9027\n",
      " \n",
      "Ridge Classifier f1.\tTrain:0.8295\tVal:0.8175\n",
      "Ridge Classifier accuracy.\tTrain:0.8329\tVal:0.8203\n",
      " \n",
      "Wall time: 46min 53s\n"
     ]
    }
   ],
   "source": [
    "%%time\n",
    "def choose_model(model,model_name, X_train,X_val,y_train,y_val):\n",
    "    ''' Calculates the predictions of the training and validation sets and prints out the f1 and accuracy score of both.'''\n",
    "    y_train_pred = model.predict(X_train)\n",
    "    y_val_pred = model.predict(X_val)\n",
    "    print(f\"{model_name} f1.\\tTrain:{f1_score(y_train, y_train_pred,average = 'macro'):.4f}\\tVal:{f1_score(y_val, y_val_pred,average = 'macro'):.4f}\")\n",
    "    print(f\"{model_name} accuracy.\\tTrain:{accuracy_score(y_train, y_train_pred):.4f}\\tVal:{accuracy_score(y_val, y_val_pred):.4f}\", end = \"\\n \\n\")\n",
    "\n",
    "    \n",
    "choose_model(model_dt,\"Decision Tree\", X_train_sc, X_val_sc, y_train, y_val)\n",
    "choose_model(model_rf,\"Random Forest\", X_train_sc, X_val_sc, y_train, y_val)\n",
    "choose_model(model_svc,\"SVM\", X_train_sc, X_val_sc, y_train, y_val)\n",
    "choose_model(model_lr,\"Logistic Regression\", X_train_sc, X_val_sc, y_train, y_val)\n",
    "choose_model(model_knn,\"KNN\", X_train_sc, X_val_sc, y_train, y_val)\n",
    "choose_model(model_xgb,\"XGB\", X_train_sc, X_val_sc, y_train, y_val)\n",
    "choose_model(model_rc,\"Ridge Classifier\", X_train_sc, X_val_sc, y_train, y_val)"
   ]
  },
  {
   "cell_type": "markdown",
   "id": "ebc8d932",
   "metadata": {},
   "source": [
    "**As we can see, the best model seems to be the SVM, since it yields the best accuracy for the validation set. However XGBoost follows very close behind.**\n",
    "\n",
    "**But let's also try a neural network. For this we are going to try different layer configurations to determine which gives us the best accuracy.**"
   ]
  },
  {
   "cell_type": "code",
   "execution_count": 26,
   "id": "f32d5f85",
   "metadata": {},
   "outputs": [],
   "source": [
    "############### Neural Network ################################\n",
    "\n",
    "# Build the function that will allow us to construct MLP with different layer numbers. Returns the model.\n",
    "\n",
    "def MLP_definer(n_layers, input_size, n_classes):\n",
    "    ''' Allows to construct MLP with the given layer number. \n",
    "        Returns the model.'''\n",
    "    #seed\n",
    "    np.random.seed(123)\n",
    "    set_random_seed(2)\n",
    "    \n",
    "    #define a sequential model\n",
    "    model = Sequential()\n",
    "\n",
    "    if n_layers == 0:\n",
    "        model.add(Dense(input_dim = input_size, units = input_size, activation= 'relu'))\n",
    "    else:\n",
    "        #define the first layer \n",
    "        for i in range(n_layers):\n",
    "            if i == 0: #input layer\n",
    "                model.add(Dense(input_dim = input_size, units = input_size, activation='relu'))\n",
    "            else:\n",
    "                model.add(Dense(units = 392, activation = 'relu'))\n",
    "\n",
    "    model.add(Dense(units = n_classes, activation= 'softmax'))\n",
    "\n",
    "    # Configure the model\n",
    "    model.compile(loss='categorical_crossentropy', #loss metric\n",
    "              optimizer='sgd',  #optimizer\n",
    "              metrics=['accuracy']) #displayed metric\n",
    "\n",
    "    return model"
   ]
  },
  {
   "cell_type": "code",
   "execution_count": 27,
   "id": "648cb113",
   "metadata": {
    "scrolled": false
   },
   "outputs": [
    {
     "name": "stdout",
     "output_type": "stream",
     "text": [
      "Model: \"sequential\"\n",
      "_________________________________________________________________\n",
      "Layer (type)                 Output Shape              Param #   \n",
      "=================================================================\n",
      "dense (Dense)                (None, 784)               615440    \n",
      "_________________________________________________________________\n",
      "dense_1 (Dense)              (None, 10)                7850      \n",
      "=================================================================\n",
      "Total params: 623,290\n",
      "Trainable params: 623,290\n",
      "Non-trainable params: 0\n",
      "_________________________________________________________________\n",
      "None\n",
      "Epoch 00401: early stopping\n",
      "N layers:0\t\tTrain ACC:0.88102084\tVal ACC:0.87099999\n"
     ]
    },
    {
     "data": {
      "image/png": "[encoded data removed]",
      "text/plain": [
       "<Figure size 360x288 with 1 Axes>"
      ]
     },
     "metadata": {
      "needs_background": "light"
     },
     "output_type": "display_data"
    },
    {
     "data": {
      "image/png": "[encoded data removed]",
      "text/plain": [
       "<Figure size 360x288 with 1 Axes>"
      ]
     },
     "metadata": {
      "needs_background": "light"
     },
     "output_type": "display_data"
    },
    {
     "name": "stdout",
     "output_type": "stream",
     "text": [
      "\n",
      "\n",
      "\n",
      "\n",
      "\n",
      "Model: \"sequential_1\"\n",
      "_________________________________________________________________\n",
      "Layer (type)                 Output Shape              Param #   \n",
      "=================================================================\n",
      "dense_2 (Dense)              (None, 784)               615440    \n",
      "_________________________________________________________________\n",
      "dense_3 (Dense)              (None, 10)                7850      \n",
      "=================================================================\n",
      "Total params: 623,290\n",
      "Trainable params: 623,290\n",
      "Non-trainable params: 0\n",
      "_________________________________________________________________\n",
      "None\n",
      "Epoch 00401: early stopping\n",
      "N layers:1\t\tTrain ACC:0.88102084\tVal ACC:0.87099999\n"
     ]
    },
    {
     "data": {
      "image/png": "[encoded data removed]",
      "text/plain": [
       "<Figure size 360x288 with 1 Axes>"
      ]
     },
     "metadata": {
      "needs_background": "light"
     },
     "output_type": "display_data"
    },
    {
     "data": {
      "image/png": "[encoded data removed]",
      "text/plain": [
       "<Figure size 360x288 with 1 Axes>"
      ]
     },
     "metadata": {
      "needs_background": "light"
     },
     "output_type": "display_data"
    },
    {
     "name": "stdout",
     "output_type": "stream",
     "text": [
      "\n",
      "\n",
      "\n",
      "\n",
      "\n",
      "Model: \"sequential_2\"\n",
      "_________________________________________________________________\n",
      "Layer (type)                 Output Shape              Param #   \n",
      "=================================================================\n",
      "dense_4 (Dense)              (None, 784)               615440    \n",
      "_________________________________________________________________\n",
      "dense_5 (Dense)              (None, 392)               307720    \n",
      "_________________________________________________________________\n",
      "dense_6 (Dense)              (None, 10)                3930      \n",
      "=================================================================\n",
      "Total params: 927,090\n",
      "Trainable params: 927,090\n",
      "Non-trainable params: 0\n",
      "_________________________________________________________________\n",
      "None\n",
      "Epoch 00101: early stopping\n",
      "N layers:2\t\tTrain ACC:0.86139584\tVal ACC:0.85416669\n"
     ]
    },
    {
     "data": {
      "image/png": "[encoded data removed]",
      "text/plain": [
       "<Figure size 360x288 with 1 Axes>"
      ]
     },
     "metadata": {
      "needs_background": "light"
     },
     "output_type": "display_data"
    },
    {
     "data": {
      "image/png": "[encoded data removed]",
      "text/plain": [
       "<Figure size 360x288 with 1 Axes>"
      ]
     },
     "metadata": {
      "needs_background": "light"
     },
     "output_type": "display_data"
    },
    {
     "name": "stdout",
     "output_type": "stream",
     "text": [
      "\n",
      "\n",
      "\n",
      "\n",
      "\n",
      "Model: \"sequential_3\"\n",
      "_________________________________________________________________\n",
      "Layer (type)                 Output Shape              Param #   \n",
      "=================================================================\n",
      "dense_7 (Dense)              (None, 784)               615440    \n",
      "_________________________________________________________________\n",
      "dense_8 (Dense)              (None, 392)               307720    \n",
      "_________________________________________________________________\n",
      "dense_9 (Dense)              (None, 392)               154056    \n",
      "_________________________________________________________________\n",
      "dense_10 (Dense)             (None, 392)               154056    \n",
      "_________________________________________________________________\n",
      "dense_11 (Dense)             (None, 10)                3930      \n",
      "=================================================================\n",
      "Total params: 1,235,202\n",
      "Trainable params: 1,235,202\n",
      "Non-trainable params: 0\n",
      "_________________________________________________________________\n",
      "None\n",
      "Epoch 00044: early stopping\n",
      "N layers:4\t\tTrain ACC:0.84574997\tVal ACC:0.83733332\n"
     ]
    },
    {
     "data": {
      "image/png": "[encoded data removed]",
      "text/plain": [
       "<Figure size 360x288 with 1 Axes>"
      ]
     },
     "metadata": {
      "needs_background": "light"
     },
     "output_type": "display_data"
    },
    {
     "data": {
      "image/png": "[encoded data removed]",
      "text/plain": [
       "<Figure size 360x288 with 1 Axes>"
      ]
     },
     "metadata": {
      "needs_background": "light"
     },
     "output_type": "display_data"
    },
    {
     "name": "stdout",
     "output_type": "stream",
     "text": [
      "\n",
      "\n",
      "\n",
      "\n",
      "\n",
      "Wall time: 31min 24s\n"
     ]
    }
   ],
   "source": [
    "%%time\n",
    "\n",
    "nlayers = [0, 1, 2, 4] # Number of layers we want to try out\n",
    "my_input_size = len(X_train[0])\n",
    "my_num_classes = 10\n",
    "best_accuracy = 0\n",
    "best_nn_model = 0\n",
    "\n",
    "\n",
    "y_train_cat = to_categorical(y_train, my_num_classes)\n",
    "y_val_cat = to_categorical(y_val, my_num_classes)\n",
    "\n",
    "\n",
    "es = EarlyStopping(monitor='val_loss', #quantity to be monitored\n",
    "                   mode='min', #we look for decreasing patterns stop \n",
    "                   patience = 3, #number of epochs with no improvement\n",
    "                   verbose=1)\n",
    "\n",
    "\n",
    "for nl in nlayers:\n",
    "    #create the MLP\n",
    "    m = MLP_definer(n_layers= nl, input_size =  my_input_size, n_classes= my_num_classes)\n",
    "    print(m.summary())\n",
    "\n",
    "    #train our model\n",
    "    h = m.fit(X_train_sc, y_train_cat, validation_data = (X_val_sc,y_val_cat), epochs=500, \n",
    "                     batch_size=1200, verbose=0, callbacks=[es])\n",
    "    \n",
    "    print(f\"N layers:{nl}\\t\\tTrain ACC:{h.history['accuracy'][-1]:.8f}\\tVal ACC:{h.history['val_accuracy'][-1]:.8f}\")\n",
    "    \n",
    "    \n",
    "    # Summarize history for accuracy\n",
    "    fig = plt.figure(figsize=(5,4))\n",
    "    plt.plot(h.history['accuracy'])\n",
    "    plt.plot(h.history['val_accuracy'])\n",
    "    plt.title('model accuracy')\n",
    "    plt.ylabel('accuracy')\n",
    "    plt.xlabel('epoch')\n",
    "    plt.legend(['train', 'val'], loc='lower right')\n",
    "    plt.show()\n",
    "\n",
    "\n",
    "    # Summarize history for loss\n",
    "    fig = plt.figure(figsize=(5,4))\n",
    "    plt.plot(h.history['loss'])\n",
    "    plt.plot(h.history['val_loss'])\n",
    "    plt.title('model loss')\n",
    "    plt.ylabel('loss')\n",
    "    plt.xlabel('epoch')\n",
    "    plt.legend(['train', 'val'], loc='upper right')\n",
    "    plt.show()\n",
    "    \n",
    "    ##### Keep model with highest accuracy #########\n",
    "    \n",
    "    if h.history['accuracy'][-1] > best_accuracy:\n",
    "            best_accuracy = h.history['accuracy'][-1]\n",
    "            best_nn_model = m\n",
    "    \n",
    "    print(\"\\n\\n\\n\\n\")"
   ]
  },
  {
   "cell_type": "code",
   "execution_count": 28,
   "id": "7acf9c84",
   "metadata": {},
   "outputs": [
    {
     "name": "stdout",
     "output_type": "stream",
     "text": [
      "WARNING:tensorflow:From <ipython-input-28-12500825879c>:3: Sequential.predict_classes (from tensorflow.python.keras.engine.sequential) is deprecated and will be removed after 2021-01-01.\n",
      "Instructions for updating:\n",
      "Please use instead:* `np.argmax(model.predict(x), axis=-1)`,   if your model does multi-class classification   (e.g. if it uses a `softmax` last-layer activation).* `(model.predict(x) > 0.5).astype(\"int32\")`,   if your model does binary classification   (e.g. if it uses a `sigmoid` last-layer activation).\n",
      "Neural Network. f1\tTrain:0.8810\tVal:0.8703\n",
      "Neural Network. Accuracy\tTrain:0.8815\tVal:0.8710\n"
     ]
    }
   ],
   "source": [
    "# Calculate the accuracy and f1 scores on the validation set for the chosen neural network model:\n",
    "\n",
    "y_train_pred = best_nn_model.predict_classes(X_train_sc)\n",
    "y_val_pred = best_nn_model.predict_classes(X_val_sc)\n",
    "print(f\"Neural Network. f1\\tTrain:{f1_score(y_train, y_train_pred,average = 'macro'):.4f}\\tVal:{f1_score(y_val, y_val_pred,average = 'macro'):.4f}\")\n",
    "print(f\"Neural Network. Accuracy\\tTrain:{accuracy_score(y_train, y_train_pred):.4f}\\tVal:{accuracy_score(y_val, y_val_pred):.4f}\")"
   ]
  },
  {
   "cell_type": "markdown",
   "id": "53d098df",
   "metadata": {},
   "source": [
    "**As we can see the SVM accuracy score for the validation set is still higher than that if the neural network. Thus we choose the SVM as our best model and calculate the accuracy and f1 scores with the the test set (consisting on 10k samples).**"
   ]
  },
  {
   "cell_type": "code",
   "execution_count": 29,
   "id": "0328cd34",
   "metadata": {},
   "outputs": [
    {
     "name": "stdout",
     "output_type": "stream",
     "text": [
      "SVC. f1\tTest:0.8957\n",
      "SVC. Accuracy\tTest:0.8956\n"
     ]
    }
   ],
   "source": [
    "y_test_pred = model_svc.predict(X_test_sc)\n",
    "print(f\"SVC. f1\\tTest:{accuracy_score(y_test, y_test_pred):.4f}\")\n",
    "print(f\"SVC. Accuracy\\tTest:{f1_score(y_test, y_test_pred,average = 'macro'):.4f}\")"
   ]
  },
  {
   "cell_type": "markdown",
   "id": "857fe149",
   "metadata": {},
   "source": [
    "**Finally, in an attempt to make the classification more visual we will have a look at the confusion matrix of the model and a classification report.**"
   ]
  },
  {
   "cell_type": "code",
   "execution_count": 30,
   "id": "e3187b72",
   "metadata": {},
   "outputs": [
    {
     "name": "stdout",
     "output_type": "stream",
     "text": [
      "              precision    recall  f1-score   support\n",
      "\n",
      "     Class 0       0.83      0.85      0.84      1000\n",
      "     Class 1       0.99      0.97      0.98      1000\n",
      "     Class 2       0.80      0.84      0.82      1000\n",
      "     Class 3       0.90      0.89      0.89      1000\n",
      "     Class 4       0.83      0.82      0.83      1000\n",
      "     Class 5       0.97      0.97      0.97      1000\n",
      "     Class 6       0.74      0.71      0.73      1000\n",
      "     Class 7       0.95      0.96      0.95      1000\n",
      "     Class 8       0.97      0.98      0.97      1000\n",
      "     Class 9       0.97      0.96      0.97      1000\n",
      "\n",
      "    accuracy                           0.90     10000\n",
      "   macro avg       0.90      0.90      0.90     10000\n",
      "weighted avg       0.90      0.90      0.90     10000\n",
      "\n"
     ]
    },
    {
     "data": {
      "image/png": "[encoded data removed]",
      "text/plain": [
       "<Figure size 432x288 with 2 Axes>"
      ]
     },
     "metadata": {
      "needs_background": "light"
     },
     "output_type": "display_data"
    },
    {
     "data": {
      "text/plain": [
       "<Figure size 432x288 with 0 Axes>"
      ]
     },
     "metadata": {},
     "output_type": "display_data"
    }
   ],
   "source": [
    "target_names = [\"Class {}\".format(i) for i in range(10)]\n",
    "print(classification_report(y_test, y_test_pred, target_names=target_names))\n",
    "\n",
    "# Confusion matrix\n",
    "cm = confusion_matrix(y_test, y_test_pred, labels = model_svc.classes_)\n",
    "disp = ConfusionMatrixDisplay(confusion_matrix=cm, display_labels=model_svc.classes_)\n",
    "disp.plot()\n",
    "plt.show()\n",
    "plt.savefig('confusion_matrix.png')"
   ]
  }
 ],
 "metadata": {
  "kernelspec": {
   "display_name": "Python 3",
   "language": "python",
   "name": "python3"
  },
  "language_info": {
   "codemirror_mode": {
    "name": "ipython",
    "version": 3
   },
   "file_extension": ".py",
   "mimetype": "text/x-python",
   "name": "python",
   "nbconvert_exporter": "python",
   "pygments_lexer": "ipython3",
   "version": "3.8.8"
  }
 },
 "nbformat": 4,
 "nbformat_minor": 5
}
